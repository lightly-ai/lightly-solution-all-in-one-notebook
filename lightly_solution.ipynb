{
 "cells": [
  {
   "cell_type": "markdown",
   "metadata": {},
   "source": [
    "This jupyter notebook needs to run on a x86_64 CPU. We recommend running it on a Linux machine. It works both with and without a Nvidia GPU."
   ]
  },
  {
   "cell_type": "code",
   "execution_count": 12,
   "metadata": {},
   "outputs": [
    {
     "name": "stdout",
     "output_type": "stream",
     "text": [
      "latest: Pulling from lightly/worker\n",
      "Status: Image is up to date for lightly/worker:latest\n",
      "[2024-03-25 16:40:34] Lightly Worker Solution v2.11.1\u001b[0m\n",
      "[2024-03-25 16:40:34] Congratulations! It looks like the Lightly container is running!\u001b[0m\n"
      ]
    }
   ],
   "source": [
    "# Install the Lightly Worker and do a quick sanity check\n",
    "# If these command fail, follow our docker installation guide at https://docs.lightly.ai/docs/install-lightly#docker\n",
    "!docker pull lightly/worker:latest\n",
    "!docker run --shm-size=\"1024m\" --rm -it lightly/worker:latest sanity_check=True\n",
    "\n",
    "# Install the Lightly Python Client\n",
    "!pip3 install lightly"
   ]
  },
  {
   "cell_type": "code",
   "execution_count": 13,
   "metadata": {},
   "outputs": [
    {
     "name": "stdout",
     "output_type": "stream",
     "text": [
      "Cloning into 'dataset_clothing'...\n",
      "Resolving deltas: 100% (4/4), done.\n",
      "\u001b[01;34mdataset_clothing\u001b[00m\n",
      "├── README.md\n",
      "├── \u001b[01;34mdress\u001b[00m [32 entries exceeds filelimit, not opening dir]\n",
      "├── \u001b[01;34mhat\u001b[00m [14 entries exceeds filelimit, not opening dir]\n",
      "├── \u001b[01;34mlongsleeve\u001b[00m [49 entries exceeds filelimit, not opening dir]\n",
      "├── \u001b[01;34moutwear\u001b[00m [24 entries exceeds filelimit, not opening dir]\n",
      "├── \u001b[01;34mpants\u001b[00m [49 entries exceeds filelimit, not opening dir]\n",
      "├── \u001b[01;34mshirt\u001b[00m [29 entries exceeds filelimit, not opening dir]\n",
      "├── \u001b[01;34mshoes\u001b[00m [26 entries exceeds filelimit, not opening dir]\n",
      "├── \u001b[01;34mshorts\u001b[00m [25 entries exceeds filelimit, not opening dir]\n",
      "├── \u001b[01;34mskirt\u001b[00m [12 entries exceeds filelimit, not opening dir]\n",
      "└── \u001b[01;34mt-shirt\u001b[00m [81 entries exceeds filelimit, not opening dir]\n",
      "\n",
      "10 directories, 1 file\n"
     ]
    }
   ],
   "source": [
    "# Set the path to the dataset.\n",
    "# Here we downlaod and use a dataset containing 354 images showing clothes.\n",
    "# If you want to use your own dataset, just set the dataset_path to it.\n",
    "dataset_path = \"dataset_clothing\"\n",
    "!git clone https://github.com/lightly-ai/clothing_images.git {dataset_path}\n",
    "!tree --filelimit=11 {str(dataset_path)}"
   ]
  },
  {
   "cell_type": "code",
   "execution_count": 19,
   "metadata": {},
   "outputs": [],
   "source": [
    "# Schedule a run\n",
    "from lightly.api import ApiWorkflowClient\n",
    "from lightly.openapi_generated.swagger_client import DatasetType, DatasourcePurpose\n",
    "\n",
    "lightly_token = \"CHANGE_ME\" # Copy the API_TOKEN from https://app.lightly.ai/preferences.\n",
    "\n",
    "# Create the Lightly client to connect to the API.\n",
    "client = ApiWorkflowClient(token=lightly_token)\n",
    "\n",
    "# Register the Lightly Worker.\n",
    "worker_id = client.register_compute_worker(name=\"clothing-worker\")\n",
    "\n",
    "# Create the dataset on the Lightly Platform.\n",
    "client.create_dataset(\n",
    "    dataset_name=\"clothing-small-3\",\n",
    "    dataset_type=DatasetType.IMAGES,\n",
    ")\n",
    "\n",
    "# Configure the datasource.\n",
    "client.set_local_config(\n",
    "    purpose=DatasourcePurpose.INPUT,\n",
    ")\n",
    "client.set_local_config(\n",
    "    purpose=DatasourcePurpose.LIGHTLY,\n",
    ")\n",
    "\n",
    "# Schedule a run on the dataset to select 50 samples.\n",
    "scheduled_run_id = client.schedule_compute_worker_run(\n",
    "    worker_config={\"shutdown_when_job_finished\": True},\n",
    "    selection_config={\n",
    "        \"n_samples\": 50,\n",
    "        \"strategies\": [\n",
    "            {\"input\": {\"type\": \"EMBEDDINGS\"}, \"strategy\": {\"type\": \"DIVERSITY\"}}\n",
    "        ],\n",
    "    },\n",
    ")"
   ]
  },
  {
   "cell_type": "code",
   "execution_count": 20,
   "metadata": {},
   "outputs": [
    {
     "name": "stdout",
     "output_type": "stream",
     "text": [
      "[2024-03-25 16:44:30] Lightly Worker Solution v2.11.1\u001b[0m\n",
      "[2024-03-25 16:44:31] You are using docker build: Tue Mar 12 07:56:29 UTC 2024.\u001b[0m\n",
      "[2024-03-25 16:44:31] Starting worker with id '65806b455ca68c93b29ad6b3'...\u001b[0m\n",
      "\u001b[93m[2024-03-25 16:44:31] Worker 2.11.1 can only process jobs scheduled with Lightly Python client 1.5 or higher.\u001b[0m\n",
      "[2024-03-25 16:44:31] Worker with labels '[]' started. Waiting for jobs...\u001b[0m\n",
      "[2024-03-25 16:44:31] Found 1 open jobs.\u001b[0m\n",
      "[2024-03-25 16:44:31] Started job with job_id '6601a9df9aaa3857efbebff1'.\u001b[0m\n",
      "...",
      "...",
      "[2024-03-25 16:46:00] Done!\u001b[0m\n",
      "[2024-03-25 16:46:03] Finished compute worker run successfully.\u001b[0m\n",
      "[2024-03-25 16:46:03] Shutting down...\u001b[0m\n"
     ]
    }
   ],
   "source": [
    "# Run the Lightly Worker to process the scheduled run.\n",
    "# If you have a Nvidia GPU, add the flag to use it: --gpus all\n",
    "!docker run --shm-size=\"1024m\" --rm -it \\\n",
    "    -v ./{dataset_path}:/input_mount:ro \\\n",
    "    -v \"lightly_runs\":/lightly_mount \\\n",
    "    -e LIGHTLY_TOKEN={lightly_token} \\\n",
    "    -e LIGHTLY_WORKER_ID={worker_id}\\\n",
    "    lightly/worker:latest\n",
    "\n"
   ]
  },
  {
   "cell_type": "markdown",
   "metadata": {},
   "source": [
    "Congratulations! You succesfully ran the Lightly solution.\n",
    "Now you can view and explore the dataset interactively on the [Lightly Platform](https://app.lightly.ai).\n",
    "To not only see the metadata and distribution, but also the images itself, you need to serve them from your local disk to your local browser by using the `lightly-serve` CLI command:"
   ]
  },
  {
   "cell_type": "code",
   "execution_count": 21,
   "metadata": {},
   "outputs": [
    {
     "name": "stdout",
     "output_type": "stream",
     "text": [
      "Starting server, listening at 'localhost:3456'\n",
      "Serving files in 'dataset_clothing' and 'lightly_runs'\n"
     ]
    }
   ],
   "source": [
    "!lightly-serve input_mount={dataset_path} lightly_mount=\"lightly_runs\""
   ]
  },
  {
   "cell_type": "markdown",
   "metadata": {},
   "source": [
    "In case your browser runs on a different machine than your notebook, you also need to forward a port, see our [docs](https://docs.lightly.ai/docs/local-storage#view-local-data-in-remote-machine-in-lightly-platform)."
   ]
  }
 ],
 "metadata": {
  "kernelspec": {
   "display_name": "Python 3",
   "language": "python",
   "name": "python3"
  },
  "language_info": {
   "codemirror_mode": {
    "name": "ipython",
    "version": 3
   },
   "file_extension": ".py",
   "mimetype": "text/x-python",
   "name": "python",
   "nbconvert_exporter": "python",
   "pygments_lexer": "ipython3",
   "version": "3.10.8"
  }
 },
 "nbformat": 4,
 "nbformat_minor": 2
}
